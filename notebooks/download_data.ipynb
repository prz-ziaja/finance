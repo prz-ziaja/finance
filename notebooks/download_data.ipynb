{
 "cells": [
  {
   "cell_type": "code",
   "execution_count": null,
   "id": "60788f02",
   "metadata": {},
   "outputs": [],
   "source": [
    "import yfinance as yf\n",
    "import pandas as pd"
   ]
  },
  {
   "cell_type": "code",
   "execution_count": null,
   "id": "33afd2a0",
   "metadata": {},
   "outputs": [],
   "source": [
    "alphabet = [chr(i) for i in range(65,91)]"
   ]
  },
  {
   "cell_type": "code",
   "execution_count": null,
   "id": "81b2549d",
   "metadata": {
    "scrolled": true
   },
   "outputs": [],
   "source": [
    "url = r'https://www.bankier.pl/gielda/notowania/ranking-popularnosci?start={}'\n",
    "\n",
    "list_of_gpw_stocks = pd.concat([pd.read_html(url.format(symbol))[0] for symbol in alphabet +['0-9']]).dropna()\n",
    "list_of_gpw_stocks.reset_index(drop=True)"
   ]
  },
  {
   "cell_type": "code",
   "execution_count": null,
   "id": "2ea5a690",
   "metadata": {},
   "outputs": [],
   "source": [
    "gpw_tickers = list_of_gpw_stocks['Ticker AD']"
   ]
  },
  {
   "cell_type": "code",
   "execution_count": null,
   "id": "4174701e",
   "metadata": {},
   "outputs": [],
   "source": [
    "for i in gpw_tickers:\n",
    "    print(i)"
   ]
  },
  {
   "cell_type": "markdown",
   "id": "9e24dac6",
   "metadata": {},
   "source": [
    "Download csv file from https://www.nasdaq.com/market-activity/stocks/screener and save in notebooks directory using name `nasdaq_stocks.csv`"
   ]
  },
  {
   "cell_type": "code",
   "execution_count": null,
   "id": "526a35ce",
   "metadata": {},
   "outputs": [],
   "source": [
    "pd.read_csv('nasdaq_stocks.csv')"
   ]
  },
  {
   "cell_type": "code",
   "execution_count": null,
   "id": "1c2bcd1e",
   "metadata": {},
   "outputs": [],
   "source": [
    "CURRENCIES = [\"EUR\", \"USD\", \"CHF\", \"GBP\"]\n",
    "STOCK = "
   ]
  },
  {
   "cell_type": "code",
   "execution_count": null,
   "id": "2fbc1da8",
   "metadata": {},
   "outputs": [],
   "source": [
    "eurpln = yf.Ticker(\"PLNEUR=X\")"
   ]
  },
  {
   "cell_type": "code",
   "execution_count": null,
   "id": "0dc0b916",
   "metadata": {},
   "outputs": [],
   "source": [
    "eurpln.info"
   ]
  },
  {
   "cell_type": "code",
   "execution_count": null,
   "id": "e5d3ce52",
   "metadata": {},
   "outputs": [],
   "source": [
    "nvda = yf.Ticker(\"ASB.wa\")"
   ]
  },
  {
   "cell_type": "code",
   "execution_count": null,
   "id": "329fc0c6",
   "metadata": {
    "scrolled": false
   },
   "outputs": [],
   "source": [
    "nvda.info"
   ]
  },
  {
   "cell_type": "code",
   "execution_count": null,
   "id": "18f87d9e",
   "metadata": {},
   "outputs": [],
   "source": [
    "nvda = yf.Ticker(\"nvda\")"
   ]
  }
 ],
 "metadata": {
  "kernelspec": {
   "display_name": "Python [conda env:finance] *",
   "language": "python",
   "name": "conda-env-finance-py"
  },
  "language_info": {
   "codemirror_mode": {
    "name": "ipython",
    "version": 3
   },
   "file_extension": ".py",
   "mimetype": "text/x-python",
   "name": "python",
   "nbconvert_exporter": "python",
   "pygments_lexer": "ipython3",
   "version": "3.10.12"
  }
 },
 "nbformat": 4,
 "nbformat_minor": 5
}
